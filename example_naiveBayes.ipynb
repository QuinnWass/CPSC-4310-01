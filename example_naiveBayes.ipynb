{
  "nbformat": 4,
  "nbformat_minor": 0,
  "metadata": {
    "anaconda-cloud": {},
    "kernelspec": {
      "display_name": "Python 3",
      "language": "python",
      "name": "python3"
    },
    "language_info": {
      "codemirror_mode": {
        "name": "ipython",
        "version": 3
      },
      "file_extension": ".py",
      "mimetype": "text/x-python",
      "name": "python",
      "nbconvert_exporter": "python",
      "pygments_lexer": "ipython3",
      "version": "3.7.3"
    },
    "colab": {
      "name": "example_naiveBayes.ipynb",
      "provenance": [],
      "collapsed_sections": [],
      "toc_visible": true,
      "include_colab_link": true
    }
  },
  "cells": [
    {
      "cell_type": "markdown",
      "metadata": {
        "id": "view-in-github",
        "colab_type": "text"
      },
      "source": [
        "<a href=\"https://colab.research.google.com/github/QuinnWass/CPSC-4310-01/blob/master/example_naiveBayes.ipynb\" target=\"_parent\"><img src=\"https://colab.research.google.com/assets/colab-badge.svg\" alt=\"Open In Colab\"/></a>"
      ]
    },
    {
      "cell_type": "markdown",
      "metadata": {
        "collapsed": true,
        "id": "DKCmPIfDkIPS",
        "colab_type": "text"
      },
      "source": [
        "# Homework PS3\n",
        "\n",
        "\n",
        "## A simple classification task with Naive Bayes classifier & ROC curve"
      ]
    },
    {
      "cell_type": "markdown",
      "metadata": {
        "id": "aNw9_TsdB3_a",
        "colab_type": "text"
      },
      "source": [
        "Quinn Wass\n",
        "\n",
        "Brigid Kelly"
      ]
    },
    {
      "cell_type": "markdown",
      "metadata": {
        "id": "o3bE23mjkIPV",
        "colab_type": "text"
      },
      "source": [
        "## Part 0:\n",
        "\n",
        "Read and run each cell of the example. "
      ]
    },
    {
      "cell_type": "markdown",
      "metadata": {
        "id": "8-J4WKKckIPY",
        "colab_type": "text"
      },
      "source": [
        "### Setup"
      ]
    },
    {
      "cell_type": "code",
      "metadata": {
        "id": "IEiEszmhkIPb",
        "colab_type": "code",
        "colab": {
          "base_uri": "https://localhost:8080/",
          "height": 70
        },
        "outputId": "caee5b95-15c5-4438-9231-06436bd13ae4"
      },
      "source": [
        "%matplotlib notebook\n",
        "# Python ≥3.5 is required\n",
        "import sys\n",
        "assert sys.version_info >= (3, 5)\n",
        "\n",
        "# Scikit-Learn ≥0.20 is required\n",
        "import sklearn\n",
        "assert sklearn.__version__ >= \"0.20\"\n",
        "\n",
        "# Common imports\n",
        "import numpy as np\n",
        "import pandas as pd\n",
        "import seaborn as sn\n",
        "import os\n",
        "\n",
        "from sklearn.metrics import confusion_matrix\n",
        "from sklearn.metrics import classification_report\n",
        "from sklearn.model_selection import train_test_split\n",
        "from sklearn.datasets import make_classification, make_blobs\n",
        "from matplotlib.colors import ListedColormap\n",
        "from sklearn.datasets import load_breast_cancer\n",
        "\n",
        "\n",
        "# To plot pretty figures\n",
        "%matplotlib inline\n",
        "import matplotlib as mpl\n",
        "import matplotlib.pyplot as plt\n",
        "mpl.rc('axes', labelsize=14)\n",
        "mpl.rc('xtick', labelsize=12)\n",
        "mpl.rc('ytick', labelsize=12)\n",
        "\n",
        "\n",
        "# to make this notebook's output stable across runs\n",
        "np.random.seed(42)\n",
        "\n",
        "# Where to save the figures\n",
        "PROJECT_ROOT_DIR = \".\"\n",
        "IMAGES_PATH = os.path.join(PROJECT_ROOT_DIR, \"images\")\n",
        "\n",
        "os.makedirs(IMAGES_PATH, exist_ok=True)\n",
        "\n",
        "def save_fig(fig_id, tight_layout=True, fig_extension=\"png\", resolution=300):\n",
        "    path = os.path.join(IMAGES_PATH, fig_id + \".\" + fig_extension)\n",
        "    print(\"Saving figure\", fig_id)\n",
        "    if tight_layout:\n",
        "        plt.tight_layout()\n",
        "    plt.savefig(path, format=fig_extension, dpi=resolution)"
      ],
      "execution_count": 1,
      "outputs": [
        {
          "output_type": "stream",
          "text": [
            "/usr/local/lib/python3.6/dist-packages/statsmodels/tools/_testing.py:19: FutureWarning: pandas.util.testing is deprecated. Use the functions in the public API at pandas.testing instead.\n",
            "  import pandas.util.testing as tm\n"
          ],
          "name": "stderr"
        }
      ]
    },
    {
      "cell_type": "markdown",
      "metadata": {
        "id": "QQ1FQ3B4kIPr",
        "colab_type": "text"
      },
      "source": [
        "### 1. Sythetic Datasets"
      ]
    },
    {
      "cell_type": "code",
      "metadata": {
        "scrolled": false,
        "id": "1-2xbzTYkIPt",
        "colab_type": "code",
        "outputId": "66d47f4d-0e32-4003-aca3-697ae972d4c3",
        "colab": {
          "base_uri": "https://localhost:8080/",
          "height": 283
        }
      },
      "source": [
        "# synthetic dataset for classification (binary)\n",
        "\n",
        "cmap_bold = ListedColormap(['#FF5F00', '#00FF00', '#0000FF','#000000'])\n",
        "\n",
        "plt.figure()\n",
        "plt.title('Sample binary classification problem with two informative features')\n",
        "\n",
        "X, y = make_classification(n_samples = 100, n_features=2,\n",
        "                                n_redundant=0, n_informative=2,\n",
        "                                n_clusters_per_class=1, flip_y = 0.1,\n",
        "                                class_sep = 0.5, random_state=0)\n",
        "\n",
        "plt.scatter(X[:, 0], X[:, 1], marker= 'o', c=y, s=50, cmap=cmap_bold)\n",
        "plt.show()"
      ],
      "execution_count": 16,
      "outputs": [
        {
          "output_type": "display_data",
          "data": {
            "image/png": "[encoded data removed]",
            "text/plain": [
              "<Figure size 432x288 with 1 Axes>"
            ]
          },
          "metadata": {
            "tags": [],
            "needs_background": "light"
          }
        }
      ]
    },
    {
      "cell_type": "markdown",
      "metadata": {
        "id": "ACxyfecpkIP5",
        "colab_type": "text"
      },
      "source": [
        "## Naive Bayes classifiers"
      ]
    },
    {
      "cell_type": "code",
      "metadata": {
        "id": "Bs4kZ8M0kIP8",
        "colab_type": "code",
        "outputId": "3b626b5f-44ba-4442-bc74-3893f004d6b8",
        "colab": {
          "base_uri": "https://localhost:8080/",
          "height": 298
        }
      },
      "source": [
        "from sklearn.naive_bayes import GaussianNB\n",
        "#from adspy_shared_utilities import plot_class_regions_for_classifier\n",
        "\n",
        "X_train, X_test, y_train, y_test = train_test_split(X, y, random_state=0)\n",
        "\n",
        "nbclf = GaussianNB().fit(X_train, y_train)\n",
        "\n",
        "plot_class_regions_for_classifier(nbclf, X_train, y_train, X_test, y_test,\n",
        "                                 'Gaussian Naive Bayes classifier: Dataset 1')"
      ],
      "execution_count": 18,
      "outputs": [
        {
          "output_type": "display_data",
          "data": {
            "image/png": "[encoded data removed]",
            "text/plain": [
              "<Figure size 432x288 with 1 Axes>"
            ]
          },
          "metadata": {
            "tags": [],
            "needs_background": "light"
          }
        }
      ]
    },
    {
      "cell_type": "code",
      "metadata": {
        "id": "jcAJ0glukIQE",
        "colab_type": "code",
        "outputId": "b5377675-88e2-405e-f4ca-d6560feb98d3",
        "colab": {
          "base_uri": "https://localhost:8080/",
          "height": 33
        }
      },
      "source": [
        "nbclf.score(X_test, y_test)"
      ],
      "execution_count": 19,
      "outputs": [
        {
          "output_type": "execute_result",
          "data": {
            "text/plain": [
              "0.84"
            ]
          },
          "metadata": {
            "tags": []
          },
          "execution_count": 19
        }
      ]
    },
    {
      "cell_type": "code",
      "metadata": {
        "id": "3fkQ-eHikIQM",
        "colab_type": "code",
        "outputId": "ba59ca61-9535-4ce0-c852-787a45d552e7",
        "colab": {
          "base_uri": "https://localhost:8080/",
          "height": 50
        }
      },
      "source": [
        "y_pred = nbclf.predict(X_test)\n",
        "\n",
        "# plot a confusion matrix\n",
        "confusion_mat = confusion_matrix(y_test, y_pred)\n",
        "\n",
        "print(confusion_mat)"
      ],
      "execution_count": 20,
      "outputs": [
        {
          "output_type": "stream",
          "text": [
            "[[12  3]\n",
            " [ 1  9]]\n"
          ],
          "name": "stdout"
        }
      ]
    },
    {
      "cell_type": "code",
      "metadata": {
        "id": "MiTFYJc6kIQX",
        "colab_type": "code",
        "outputId": "9858fbaa-0100-4fe4-f399-885f5451b3d5",
        "colab": {
          "base_uri": "https://localhost:8080/",
          "height": 163
        }
      },
      "source": [
        "# Print classification report\n",
        "target_names = ['Class 0', 'Class 1']\n",
        "\n",
        "result_metrics = classification_report(y_test, y_pred, target_names=target_names)\n",
        "\n",
        "print(result_metrics)"
      ],
      "execution_count": 21,
      "outputs": [
        {
          "output_type": "stream",
          "text": [
            "              precision    recall  f1-score   support\n",
            "\n",
            "     Class 0       0.92      0.80      0.86        15\n",
            "     Class 1       0.75      0.90      0.82        10\n",
            "\n",
            "    accuracy                           0.84        25\n",
            "   macro avg       0.84      0.85      0.84        25\n",
            "weighted avg       0.85      0.84      0.84        25\n",
            "\n"
          ],
          "name": "stdout"
        }
      ]
    },
    {
      "cell_type": "markdown",
      "metadata": {
        "id": "8aHuAC74kIQe",
        "colab_type": "text"
      },
      "source": [
        "## ROC Curve"
      ]
    },
    {
      "cell_type": "code",
      "metadata": {
        "id": "Fd7uclXfkIQf",
        "colab_type": "code",
        "outputId": "28825b31-6ea5-429d-d0f2-a271a7e3748b",
        "colab": {
          "base_uri": "https://localhost:8080/",
          "height": 318
        }
      },
      "source": [
        "from sklearn.metrics import roc_curve, auc\n",
        "y_score = nbclf.predict_proba(X_test)\n",
        "\n",
        "false_positive_rate, true_positive_rate, thresholds = roc_curve(y_test, y_score[:,1])\n",
        "\n",
        "roc_auc = auc(false_positive_rate, true_positive_rate)\n",
        "print('Accuracy = ', roc_auc)\n",
        "\n",
        "count = 1\n",
        "\n",
        "# Get different color each graph line\n",
        "colorSet = ['navy', 'greenyellow', 'deepskyblue', 'darkviolet', 'crimson', \n",
        "            'darkslategray', 'indigo', 'brown', 'orange', 'palevioletred', 'mediumseagreen',\n",
        "            'k', 'darkgoldenrod', 'g', 'midnightblue', 'c', 'y', 'r', 'b', 'm', 'lawngreen'\n",
        "            'mediumturquoise', 'lime', 'teal', 'drive', 'sienna', 'sandybrown']\n",
        "color = colorSet[count-1]\n",
        "\n",
        "# Plotting\n",
        "plt.title('ROC')\n",
        "plt.plot(false_positive_rate, true_positive_rate, c=color, label=('Accuracy = %0.2f'%roc_auc))\n",
        "plt.legend(loc='lower right', prop={'size':8})\n",
        "plt.plot([0,1],[0,1], color='lightgrey', linestyle='--')\n",
        "plt.xlim([-0.05,1.0])\n",
        "plt.ylim([0.0,1.05])\n",
        "plt.ylabel('True Positive Rate')\n",
        "plt.xlabel('False Positive Rate')\n",
        "plt.show()"
      ],
      "execution_count": 22,
      "outputs": [
        {
          "output_type": "stream",
          "text": [
            "Accuracy =  0.8600000000000001\n"
          ],
          "name": "stdout"
        },
        {
          "output_type": "display_data",
          "data": {
            "image/png": "[encoded data removed]",
            "text/plain": [
              "<Figure size 432x288 with 1 Axes>"
            ]
          },
          "metadata": {
            "tags": [],
            "needs_background": "light"
          }
        }
      ]
    },
    {
      "cell_type": "markdown",
      "metadata": {
        "id": "KztuEU_FkIQl",
        "colab_type": "text"
      },
      "source": [
        "## 2. Application to a real-world dataset¶\n",
        "\n",
        "- Breast Canver dataset\n"
      ]
    },
    {
      "cell_type": "code",
      "metadata": {
        "id": "OFVuNhrUkIQn",
        "colab_type": "code",
        "outputId": "0918f9b5-562c-4b8d-aa90-693c9426ad4a",
        "colab": {
          "base_uri": "https://localhost:8080/",
          "height": 131
        }
      },
      "source": [
        "# Breast cancer dataset for classification\n",
        "cancer = load_breast_cancer()\n",
        "(X_cancer, y_cancer) = load_breast_cancer(return_X_y = True)\n",
        "\n",
        "print(X_cancer)"
      ],
      "execution_count": 23,
      "outputs": [
        {
          "output_type": "stream",
          "text": [
            "[[1.799e+01 1.038e+01 1.228e+02 ... 2.654e-01 4.601e-01 1.189e-01]\n",
            " [2.057e+01 1.777e+01 1.329e+02 ... 1.860e-01 2.750e-01 8.902e-02]\n",
            " [1.969e+01 2.125e+01 1.300e+02 ... 2.430e-01 3.613e-01 8.758e-02]\n",
            " ...\n",
            " [1.660e+01 2.808e+01 1.083e+02 ... 1.418e-01 2.218e-01 7.820e-02]\n",
            " [2.060e+01 2.933e+01 1.401e+02 ... 2.650e-01 4.087e-01 1.240e-01]\n",
            " [7.760e+00 2.454e+01 4.792e+01 ... 0.000e+00 2.871e-01 7.039e-02]]\n"
          ],
          "name": "stdout"
        }
      ]
    },
    {
      "cell_type": "code",
      "metadata": {
        "id": "KTt-6dPVkIQv",
        "colab_type": "code",
        "outputId": "8060bf26-3cf8-4ab3-c020-7cdcd7890e2d",
        "colab": {
          "base_uri": "https://localhost:8080/",
          "height": 66
        }
      },
      "source": [
        "X_train2, X_test2, y_train2, y_test2 = train_test_split(X_cancer, y_cancer, random_state = 0)\n",
        "\n",
        "nbclf = GaussianNB().fit(X_train2, y_train2)\n",
        "\n",
        "print('Breast cancer dataset')\n",
        "print('Accuracy of GaussianNB classifier on training set: {:.2f}'\n",
        "     .format(nbclf.score(X_train2, y_train2)))\n",
        "\n",
        "print('Accuracy of GaussianNB classifier on test set: {:.2f}'\n",
        "     .format(nbclf.score(X_test2, y_test2)))"
      ],
      "execution_count": 24,
      "outputs": [
        {
          "output_type": "stream",
          "text": [
            "Breast cancer dataset\n",
            "Accuracy of GaussianNB classifier on training set: 0.95\n",
            "Accuracy of GaussianNB classifier on test set: 0.94\n"
          ],
          "name": "stdout"
        }
      ]
    },
    {
      "cell_type": "markdown",
      "metadata": {
        "id": "sdmWg1tXkIQ3",
        "colab_type": "text"
      },
      "source": [
        "### accuracy in training dataset"
      ]
    },
    {
      "cell_type": "code",
      "metadata": {
        "id": "RnOjRw_mkIQ5",
        "colab_type": "code",
        "outputId": "51415e9c-bdae-47ef-a4ed-c18a7d461cf4",
        "colab": {
          "base_uri": "https://localhost:8080/",
          "height": 196
        }
      },
      "source": [
        "y_pred2 = nbclf.predict(X_train2)\n",
        "\n",
        "\n",
        "target_names = list(cancer.target_names)\n",
        "# plot a confusion matrix\n",
        "confusion_mat = confusion_matrix(y_train2, y_pred2)\n",
        "\n",
        "print(confusion_mat)\n",
        "\n",
        "# Print classification report\n",
        "\n",
        "\n",
        "result_metrics = classification_report(y_train2, y_pred2, target_names=target_names)\n",
        "\n",
        "print(result_metrics)"
      ],
      "execution_count": 25,
      "outputs": [
        {
          "output_type": "stream",
          "text": [
            "[[142  17]\n",
            " [  4 263]]\n",
            "              precision    recall  f1-score   support\n",
            "\n",
            "   malignant       0.97      0.89      0.93       159\n",
            "      benign       0.94      0.99      0.96       267\n",
            "\n",
            "    accuracy                           0.95       426\n",
            "   macro avg       0.96      0.94      0.95       426\n",
            "weighted avg       0.95      0.95      0.95       426\n",
            "\n"
          ],
          "name": "stdout"
        }
      ]
    },
    {
      "cell_type": "markdown",
      "metadata": {
        "id": "1YFhr9-6kIQ_",
        "colab_type": "text"
      },
      "source": [
        "### accuracy in testing dataset"
      ]
    },
    {
      "cell_type": "code",
      "metadata": {
        "id": "FJdymWL1kIRA",
        "colab_type": "code",
        "outputId": "1500b25d-a040-4243-92ca-a9c4fc00f45b",
        "colab": {
          "base_uri": "https://localhost:8080/",
          "height": 196
        }
      },
      "source": [
        "y_pred2 = nbclf.predict(X_test2)\n",
        "\n",
        "\n",
        "target_names = list(cancer.target_names)\n",
        "\n",
        "# plot a confusion matrix\n",
        "print(confusion_mat)\n",
        "\n",
        "# Print classification report\n",
        "result_metrics = classification_report(y_test2, y_pred2, target_names=target_names)\n",
        "\n",
        "print(result_metrics)"
      ],
      "execution_count": 26,
      "outputs": [
        {
          "output_type": "stream",
          "text": [
            "[[142  17]\n",
            " [  4 263]]\n",
            "              precision    recall  f1-score   support\n",
            "\n",
            "   malignant       0.92      0.91      0.91        53\n",
            "      benign       0.95      0.96      0.95        90\n",
            "\n",
            "    accuracy                           0.94       143\n",
            "   macro avg       0.93      0.93      0.93       143\n",
            "weighted avg       0.94      0.94      0.94       143\n",
            "\n"
          ],
          "name": "stdout"
        }
      ]
    },
    {
      "cell_type": "markdown",
      "metadata": {
        "id": "FjWfIoqTkIRL",
        "colab_type": "text"
      },
      "source": [
        "### ROC Curve"
      ]
    },
    {
      "cell_type": "code",
      "metadata": {
        "id": "bHplWaalkIRL",
        "colab_type": "code",
        "outputId": "63033458-f630-46f8-fdeb-57524fd67dab",
        "colab": {
          "base_uri": "https://localhost:8080/",
          "height": 318
        }
      },
      "source": [
        "from sklearn.metrics import roc_curve, auc\n",
        "y_score2 = nbclf.predict_proba(X_test2)\n",
        "\n",
        "false_positive_rate2, true_positive_rate2, thresholds = roc_curve(y_test2, y_score2[:,1])\n",
        "\n",
        "roc_auc2 = auc(false_positive_rate2, true_positive_rate2)\n",
        "print('Accuracy = ', roc_auc2)\n",
        "\n",
        "count = 1\n",
        "\n",
        "# Get different color each graph line\n",
        "colorSet = ['navy', 'greenyellow', 'deepskyblue', 'darkviolet', 'crimson', \n",
        "            'darkslategray', 'indigo', 'brown', 'orange', 'palevioletred', 'mediumseagreen',\n",
        "            'k', 'darkgoldenrod', 'g', 'midnightblue', 'c', 'y', 'r', 'b', 'm', 'lawngreen'\n",
        "            'mediumturquoise', 'lime', 'teal', 'drive', 'sienna', 'sandybrown']\n",
        "color = colorSet[count-1]\n",
        "\n",
        "# Plotting\n",
        "plt.title('ROC')\n",
        "plt.plot(false_positive_rate, true_positive_rate, c=color, label=('Accuracy = %0.2f'%roc_auc2))\n",
        "plt.legend(loc='lower right', prop={'size':8})\n",
        "plt.plot([0,1],[0,1], color='lightgrey', linestyle='--')\n",
        "plt.xlim([-0.05,1.0])\n",
        "plt.ylim([0.0,1.05])\n",
        "plt.ylabel('True Positive Rate')\n",
        "plt.xlabel('False Positive Rate')\n",
        "plt.show()"
      ],
      "execution_count": 27,
      "outputs": [
        {
          "output_type": "stream",
          "text": [
            "Accuracy =  0.990146750524109\n"
          ],
          "name": "stdout"
        },
        {
          "output_type": "display_data",
          "data": {
            "image/png": "[encoded data removed]",
            "text/plain": [
              "<Figure size 432x288 with 1 Axes>"
            ]
          },
          "metadata": {
            "tags": [],
            "needs_background": "light"
          }
        }
      ]
    },
    {
      "cell_type": "markdown",
      "metadata": {
        "id": "0H-9SwzanLgK",
        "colab_type": "text"
      },
      "source": [
        ""
      ]
    },
    {
      "cell_type": "markdown",
      "metadata": {
        "id": "YDMH0UgRkIRa",
        "colab_type": "text"
      },
      "source": [
        "## Part 1\n",
        "\n",
        "- Dataset: iris.csv is stored in a folder data\n",
        "\n",
        "- Your modeling analysis should be done on two different datasets, (1) the original dataset and (b) Normalized data using min-max normalization. \n",
        "\n",
        "- Apply (1) k-NN classifier (using k = 1, 3, 5) and (2) Naive Bayes classifiers \n",
        "\n",
        "- A framework of k-cross validation (k = 10)\n",
        "\n",
        "- Display confusion matrix (a matrix with numbers)\n",
        "\n",
        "- Print a summary of performance metrics\n",
        "\n",
        "- Plot ROC curves\n",
        "\n"
      ]
    },
    {
      "cell_type": "markdown",
      "metadata": {
        "id": "AGGNEd5SkIRb",
        "colab_type": "text"
      },
      "source": [
        "### Submissions\n",
        "\n",
        "- Upload your notebook on GitHub repo and provide an URL to the file.\n",
        "\n",
        "- Write a summary of the analysis and submit it to Canvas. Your summary should include the comparisons of the two models and the model peformance based on parameters (e.g., k value in k-NN classifier).\n"
      ]
    },
    {
      "cell_type": "code",
      "metadata": {
        "id": "jsnXZssckIRc",
        "colab_type": "code",
        "colab": {}
      },
      "source": [
        "%matplotlib notebook\n",
        "# Python ≥3.5 is required\n",
        "import sys\n",
        "assert sys.version_info >= (3, 5)\n",
        "\n",
        "# Scikit-Learn ≥0.20 is required\n",
        "import sklearn\n",
        "assert sklearn.__version__ >= \"0.20\"\n",
        "\n",
        "# Common imports\n",
        "import numpy as np\n",
        "import pandas as pd\n",
        "import seaborn as sn\n",
        "import os\n",
        "\n",
        "from sklearn.metrics import confusion_matrix\n",
        "from sklearn.metrics import classification_report\n",
        "from sklearn.model_selection import train_test_split\n",
        "from sklearn.datasets import make_classification, make_blobs\n",
        "from matplotlib.colors import ListedColormap\n",
        "from sklearn.datasets import load_breast_cancer\n",
        "\n",
        "\n",
        "# To plot pretty figures\n",
        "%matplotlib inline\n",
        "import matplotlib as mpl\n",
        "import matplotlib.pyplot as plt\n",
        "mpl.rc('axes', labelsize=14)\n",
        "mpl.rc('xtick', labelsize=12)\n",
        "mpl.rc('ytick', labelsize=12)\n",
        "\n",
        "\n",
        "# to make this notebook's output stable across runs\n",
        "np.random.seed(42)\n",
        "\n",
        "# Where to save the figures\n",
        "PROJECT_ROOT_DIR = \".\"\n",
        "IMAGES_PATH = os.path.join(PROJECT_ROOT_DIR, \"images\")\n",
        "\n",
        "os.makedirs(IMAGES_PATH, exist_ok=True)\n",
        "\n",
        "def save_fig(fig_id, tight_layout=True, fig_extension=\"png\", resolution=300):\n",
        "    path = os.path.join(IMAGES_PATH, fig_id + \".\" + fig_extension)\n",
        "    print(\"Saving figure\", fig_id)\n",
        "    if tight_layout:\n",
        "        plt.tight_layout()\n",
        "    plt.savefig(path, format=fig_extension, dpi=resolution)"
      ],
      "execution_count": 0,
      "outputs": []
    },
    {
      "cell_type": "code",
      "metadata": {
        "id": "C8EDdWuJkIRk",
        "colab_type": "code",
        "colab": {}
      },
      "source": [
        "iris_df = pd.read_csv(\"iris.csv\")\n",
        "iris_df.dropna()\n",
        "X = iris_df[['SepalLength', 'SepalWidth', 'PetalLength', 'PetalWidth']]\n",
        "y = iris_df['Class']"
      ],
      "execution_count": 0,
      "outputs": []
    },
    {
      "cell_type": "code",
      "metadata": {
        "id": "gjBGns6K1IVx",
        "colab_type": "code",
        "colab": {}
      },
      "source": [
        "# Show confusion matrix\n",
        "def plot_confusion_matrix(confusion_mat, cln):\n",
        "    plt.imshow(confusion_mat, interpolation='nearest', cmap=plt.cm.gray)\n",
        "    plt.title('Confusion matrix')\n",
        "    plt.colorbar()\n",
        "    tick_marks = np.arange(cln)\n",
        "    plt.xticks(tick_marks, tick_marks)\n",
        "    plt.yticks(tick_marks, tick_marks)\n",
        "    plt.ylabel('True label')\n",
        "    plt.xlabel('Predicted label')\n",
        "    plt.show()"
      ],
      "execution_count": 0,
      "outputs": []
    },
    {
      "cell_type": "code",
      "metadata": {
        "id": "9jD9qhqpyc1s",
        "colab_type": "code",
        "outputId": "c53f64f5-0350-474d-dcee-8098ee868d1d",
        "colab": {
          "base_uri": "https://localhost:8080/",
          "height": 1000
        }
      },
      "source": [
        "X_train, X_test, y_train, y_test = train_test_split(X, y, random_state=0)\n",
        "from sklearn.neighbors import KNeighborsClassifier\n",
        "#from adspy_shared_utilities import plot_class_regions_for_classifier\n",
        "from sklearn.model_selection import cross_val_score\n",
        "from sklearn.preprocessing import label_binarize\n",
        "from sklearn.metrics import classification_report\n",
        "from sklearn.metrics import roc_curve, auc\n",
        "for i in [1, 3, 5]:\n",
        "\n",
        "  knn = KNeighborsClassifier(n_neighbors=i).fit(X_train, y_train)\n",
        "\n",
        "\n",
        "  print(\"Cross val score: \",(cross_val_score(knn, X, y, cv=10)).mean())\n",
        "  y_pred = knn.predict(X_test)\n",
        "\n",
        "  # plot a confusion matrix\n",
        "  confusion_mat = confusion_matrix(y_test, y_pred)\n",
        "  print(confusion_mat)\n",
        "  plot_confusion_matrix(confusion_mat, 4)\n",
        "\n",
        "\n",
        "  target_names = ['Iris Setosa', 'Iris Versicolour', 'Iris Virginica']\n",
        "\n",
        "  result_metrics = classification_report(y_test, y_pred, target_names=target_names)\n",
        "\n",
        "  print(result_metrics)\n",
        "\n",
        "  y_predict_prob = knn.predict_proba(X_test)\n",
        "  y_test_arr = y_test.to_numpy()\n",
        "\n",
        "  fpr = dict()\n",
        "  tpr = dict()\n",
        "  roc_auc = dict()\n",
        "\n",
        "  #since this is a multiclass classifier, we must make this a binary problem over 3 iterations,\n",
        "  #   1 for each class\n",
        "\n",
        "  for i in range(3):\n",
        "    fpr[i], tpr[i], _ = roc_curve( label_binarize(y_test_arr, classes = [0,1,2])[:,i] , y_predict_prob[:,i] )\n",
        "    roc_auc[i] = auc(fpr[i], tpr[i])\n",
        "\n",
        "\n",
        "  plt.title('Receiver Operating Characteristic')\n",
        "  colors = ['blue', 'purple', 'green']\n",
        "\n",
        "\n",
        "  for i, color in zip(range(3), colors):\n",
        "    plt.plot(fpr[i], tpr[i], color = color , label = 'AUC = %0.2f' % roc_auc[i])\n",
        "\n",
        "\n",
        "\n",
        "  plt.legend(loc = 'lower right')\n",
        "  plt.plot([0, 1], [0, 1],'r--')\n",
        "  plt.xlim([-0.01, 1])\n",
        "  plt.ylim([0, 1.1])\n",
        "  plt.ylabel('True Positive Rate')\n",
        "  plt.xlabel('False Positive Rate')\n",
        "  plt.title('ROC Curve of kNN')\n",
        "  plt.show()"
      ],
      "execution_count": 80,
      "outputs": [
        {
          "output_type": "stream",
          "text": [
            "Cross val score:  0.96\n",
            "[[13  0  0]\n",
            " [ 0 15  1]\n",
            " [ 0  0  9]]\n"
          ],
          "name": "stdout"
        },
        {
          "output_type": "display_data",
          "data": {
            "image/png": "[encoded data removed]",
            "text/plain": [
              "<Figure size 432x288 with 2 Axes>"
            ]
          },
          "metadata": {
            "tags": [],
            "needs_background": "light"
          }
        },
        {
          "output_type": "stream",
          "text": [
            "                  precision    recall  f1-score   support\n",
            "\n",
            "     Iris Setosa       1.00      1.00      1.00        13\n",
            "Iris Versicolour       1.00      0.94      0.97        16\n",
            "  Iris Virginica       0.90      1.00      0.95         9\n",
            "\n",
            "        accuracy                           0.97        38\n",
            "       macro avg       0.97      0.98      0.97        38\n",
            "    weighted avg       0.98      0.97      0.97        38\n",
            "\n"
          ],
          "name": "stdout"
        },
        {
          "output_type": "display_data",
          "data": {
            "image/png": "[encoded data removed]",
            "text/plain": [
              "<Figure size 432x288 with 1 Axes>"
            ]
          },
          "metadata": {
            "tags": [],
            "needs_background": "light"
          }
        },
        {
          "output_type": "stream",
          "text": [
            "Cross val score:  0.9666666666666666\n",
            "[[13  0  0]\n",
            " [ 0 15  1]\n",
            " [ 0  0  9]]\n"
          ],
          "name": "stdout"
        },
        {
          "output_type": "display_data",
          "data": {
            "image/png": "[encoded data removed]",
            "text/plain": [
              "<Figure size 432x288 with 2 Axes>"
            ]
          },
          "metadata": {
            "tags": [],
            "needs_background": "light"
          }
        },
        {
          "output_type": "stream",
          "text": [
            "                  precision    recall  f1-score   support\n",
            "\n",
            "     Iris Setosa       1.00      1.00      1.00        13\n",
            "Iris Versicolour       1.00      0.94      0.97        16\n",
            "  Iris Virginica       0.90      1.00      0.95         9\n",
            "\n",
            "        accuracy                           0.97        38\n",
            "       macro avg       0.97      0.98      0.97        38\n",
            "    weighted avg       0.98      0.97      0.97        38\n",
            "\n"
          ],
          "name": "stdout"
        },
        {
          "output_type": "display_data",
          "data": {
            "image/png": "[encoded data removed]",
            "text/plain": [
              "<Figure size 432x288 with 1 Axes>"
            ]
          },
          "metadata": {
            "tags": [],
            "needs_background": "light"
          }
        },
        {
          "output_type": "stream",
          "text": [
            "Cross val score:  0.9666666666666668\n",
            "[[13  0  0]\n",
            " [ 0 15  1]\n",
            " [ 0  0  9]]\n"
          ],
          "name": "stdout"
        },
        {
          "output_type": "display_data",
          "data": {
            "image/png": "[encoded data removed]",
            "text/plain": [
              "<Figure size 432x288 with 2 Axes>"
            ]
          },
          "metadata": {
            "tags": [],
            "needs_background": "light"
          }
        },
        {
          "output_type": "stream",
          "text": [
            "                  precision    recall  f1-score   support\n",
            "\n",
            "     Iris Setosa       1.00      1.00      1.00        13\n",
            "Iris Versicolour       1.00      0.94      0.97        16\n",
            "  Iris Virginica       0.90      1.00      0.95         9\n",
            "\n",
            "        accuracy                           0.97        38\n",
            "       macro avg       0.97      0.98      0.97        38\n",
            "    weighted avg       0.98      0.97      0.97        38\n",
            "\n"
          ],
          "name": "stdout"
        },
        {
          "output_type": "display_data",
          "data": {
            "image/png": "[encoded data removed]",
            "text/plain": [
              "<Figure size 432x288 with 1 Axes>"
            ]
          },
          "metadata": {
            "tags": [],
            "needs_background": "light"
          }
        }
      ]
    },
    {
      "cell_type": "markdown",
      "metadata": {
        "id": "QRkaH0Rk_wO3",
        "colab_type": "text"
      },
      "source": [
        "##Adspy_shared_utilities.py"
      ]
    },
    {
      "cell_type": "code",
      "metadata": {
        "id": "gn7PYjKW_0RO",
        "colab_type": "code",
        "colab": {}
      },
      "source": [
        "import numpy\n",
        "import pandas as pd\n",
        "import seaborn as sn\n",
        "import matplotlib.pyplot as plt\n",
        "import matplotlib.cm as cm\n",
        "from matplotlib.colors import ListedColormap, BoundaryNorm\n",
        "from sklearn import neighbors\n",
        "import matplotlib.patches as mpatches\n",
        "import graphviz\n",
        "from sklearn.tree import export_graphviz\n",
        "import matplotlib.patches as mpatches\n",
        "\n",
        "# Meshgrid expanation https://stackoverflow.com/questions/36013063/what-is-purpose-of-meshgrid-in-python\n",
        "\n",
        "def load_crime_dataset():\n",
        "    # Communities and Crime dataset for regression\n",
        "    # https://archive.ics.uci.edu/ml/datasets/Communities+and+Crime+Unnormalized\n",
        "\n",
        "    crime = pd.read_table('CommViolPredUnnormalizedData.txt', sep=',', na_values='?')\n",
        "    crime.head()\n",
        "    # remove features with poor coverage or lower relevance, and keep ViolentCrimesPerPop target column\n",
        "    columns_to_keep = [5, 6] + list(range(11,26)) + list(range(32, 103)) + [145]\n",
        "    crime = crime.ix[:,columns_to_keep].dropna()\n",
        "    crime.head()\n",
        "    X_crime = crime.ix[:,range(0,88)]\n",
        "    y_crime = crime['ViolentCrimesPerPop']\n",
        "\n",
        "    return (X_crime, y_crime)\n",
        "\n",
        "def plot_decision_tree(clf, feature_names, class_names):\n",
        "    # This function requires the pydotplus module and assumes it's been installed.\n",
        "    # In some cases (typically under Windows) even after running conda install, there is a problem where the\n",
        "    # pydotplus module is not found when running from within the notebook environment.  The following code\n",
        "    # may help to guarantee the module is installed in the current notebook environment directory.\n",
        "    #\n",
        "    # import sys; sys.executable\n",
        "    # !{sys.executable} -m pip install pydotplus\n",
        "\n",
        "    export_graphviz(clf, out_file=\"readonly/adspy_temp.dot\", feature_names=feature_names, class_names=class_names, filled = True, impurity = False)\n",
        "    with open(\"readonly/adspy_temp.dot\") as f:\n",
        "        dot_graph = f.read()\n",
        "    # Alternate method using pydotplus, if installed.\n",
        "    # graph = pydotplus.graphviz.graph_from_dot_data(dot_graph)\n",
        "    # return graph.create_png()\n",
        "    return graphviz.Source(dot_graph)\n",
        "\n",
        "def plot_feature_importances(clf, feature_names):\n",
        "    c_features = len(feature_names)\n",
        "    plt.barh(range(c_features), clf.feature_importances_)\n",
        "    plt.xlabel(\"Feature importance\")\n",
        "    plt.ylabel(\"Feature name\")\n",
        "    plt.yticks(numpy.arange(c_features), feature_names)\n",
        "\n",
        "def plot_labelled_scatter(X, y, class_labels):\n",
        "    num_labels = len(class_labels)\n",
        "\n",
        "    x_min, x_max = X[:, 0].min() - 1, X[:, 0].max() + 1\n",
        "    y_min, y_max = X[:, 1].min() - 1, X[:, 1].max() + 1\n",
        "\n",
        "    marker_array = ['o', '^', '*']\n",
        "    color_array = ['#FFFF00', '#00AAFF', '#000000', '#FF00AA']\n",
        "    cmap_bold = ListedColormap(color_array)\n",
        "    bnorm = BoundaryNorm(numpy.arange(0, num_labels + 1, 1), ncolors=num_labels)\n",
        "    plt.figure()\n",
        "\n",
        "    plt.scatter(X[:, 0], X[:, 1], s=65, c=y, cmap=cmap_bold, norm = bnorm, alpha = 0.40, edgecolor='black', lw = 1)\n",
        "\n",
        "    plt.xlim(x_min, x_max)\n",
        "    plt.ylim(y_min, y_max)\n",
        "\n",
        "    h = []\n",
        "    for c in range(0, num_labels):\n",
        "        h.append(mpatches.Patch(color=color_array[c], label=class_labels[c]))\n",
        "    plt.legend(handles=h)\n",
        "\n",
        "    plt.show()\n",
        "\n",
        "\n",
        "def plot_class_regions_for_classifier_subplot(clf, X, y, X_test, y_test, title, subplot, target_names = None, plot_decision_regions = True):\n",
        "\n",
        "    numClasses = numpy.amax(y) + 1\n",
        "    color_list_light = ['#FFFFAA', '#EFEFEF', '#AAFFAA', '#AAAAFF']\n",
        "    color_list_bold = ['#EEEE00', '#000000', '#00CC00', '#0000CC']\n",
        "    cmap_light = ListedColormap(color_list_light[0:numClasses])\n",
        "    cmap_bold  = ListedColormap(color_list_bold[0:numClasses])\n",
        "\n",
        "    h = 0.03\n",
        "    k = 0.5\n",
        "    x_plot_adjust = 0.1\n",
        "    y_plot_adjust = 0.1\n",
        "    plot_symbol_size = 50\n",
        "\n",
        "    x_min = X[:, 0].min()\n",
        "    x_max = X[:, 0].max()\n",
        "    y_min = X[:, 1].min()\n",
        "    y_max = X[:, 1].max()\n",
        "    x2, y2 = numpy.meshgrid(numpy.arange(x_min - k, x_max + k, h), numpy.arange(y_min - k, y_max + k, h))\n",
        "    # numpy.c_ Translates slice objects to concatenation along the second axis\n",
        "    # e.g. np.c_[np.array([[1,2,3]]), 0, 0, np.array([[4,5,6]])]\n",
        "    # ravel() Returns a contiguous flattened array.\n",
        "    # x = np.array([[1, 2, 3], [4, 5, 6]])\n",
        "    # np.ravel(x) = [1 2 3 4 5 6]\n",
        "    P = clf.predict(numpy.c_[x2.ravel(), y2.ravel()])\n",
        "    P = P.reshape(x2.shape)\n",
        "\n",
        "    if plot_decision_regions:\n",
        "        subplot.contourf(x2, y2, P, cmap=cmap_light, alpha = 0.8)\n",
        "\n",
        "    subplot.scatter(X[:, 0], X[:, 1], c=y, cmap=cmap_bold, s=plot_symbol_size, edgecolor = 'black')\n",
        "    subplot.set_xlim(x_min - x_plot_adjust, x_max + x_plot_adjust)\n",
        "    subplot.set_ylim(y_min - y_plot_adjust, y_max + y_plot_adjust)\n",
        "\n",
        "    if (X_test is not None):\n",
        "        subplot.scatter(X_test[:, 0], X_test[:, 1], c=y_test, cmap=cmap_bold, s=plot_symbol_size, marker='^', edgecolor = 'black')\n",
        "        train_score = clf.score(X, y)\n",
        "        test_score  = clf.score(X_test, y_test)\n",
        "        title = title + \"\\nTrain score = {:.2f}, Test score = {:.2f}\".format(train_score, test_score)\n",
        "\n",
        "    subplot.set_title(title)\n",
        "\n",
        "    if (target_names is not None):\n",
        "        legend_handles = []\n",
        "        for i in range(0, len(target_names)):\n",
        "            patch = mpatches.Patch(color=color_list_bold[i], label=target_names[i])\n",
        "            legend_handles.append(patch)\n",
        "        subplot.legend(loc=0, handles=legend_handles)\n",
        "\n",
        "\n",
        "def plot_class_regions_for_classifier(clf, X, y, X_test=None, y_test=None, title=None, target_names = None, plot_decision_regions = True):\n",
        "\n",
        "    numClasses = numpy.amax(y) + 1\n",
        "    color_list_light = ['#FFFFAA', '#EFEFEF', '#AAFFAA', '#AAAAFF']\n",
        "    color_list_bold = ['#EEEE00', '#000000', '#00CC00', '#0000CC']\n",
        "    cmap_light = ListedColormap(color_list_light[0:numClasses])\n",
        "    cmap_bold  = ListedColormap(color_list_bold[0:numClasses])\n",
        "\n",
        "    h = 0.03\n",
        "    k = 0.5\n",
        "    x_plot_adjust = 0.1\n",
        "    y_plot_adjust = 0.1\n",
        "    plot_symbol_size = 50\n",
        "\n",
        "    x_min = X[:, 0].min()\n",
        "    x_max = X[:, 0].max()\n",
        "    y_min = X[:, 1].min()\n",
        "    y_max = X[:, 1].max()\n",
        "    x2, y2 = numpy.meshgrid(numpy.arange(x_min-k, x_max+k, h), numpy.arange(y_min-k, y_max+k, h))\n",
        "    # numpy.c_ Translates slice objects to concatenation along the second axis\n",
        "    # e.g. np.c_[np.array([[1,2,3]]), 0, 0, np.array([[4,5,6]])]\n",
        "    # ravel() Returns a contiguous flattened array.\n",
        "    # x = np.array([[1, 2, 3], [4, 5, 6]])\n",
        "    # np.ravel(x) = [1 2 3 4 5 6]\n",
        "    P = clf.predict(numpy.c_[x2.ravel(), y2.ravel()])\n",
        "    P = P.reshape(x2.shape)\n",
        "    plt.figure()\n",
        "    if plot_decision_regions:\n",
        "        plt.contourf(x2, y2, P, cmap=cmap_light, alpha = 0.8)\n",
        "\n",
        "    plt.scatter(X[:, 0], X[:, 1], c=y, cmap=cmap_bold, s=plot_symbol_size, edgecolor = 'black')\n",
        "    plt.xlim(x_min - x_plot_adjust, x_max + x_plot_adjust)\n",
        "    plt.ylim(y_min - y_plot_adjust, y_max + y_plot_adjust)\n",
        "\n",
        "    if (X_test is not None):\n",
        "        plt.scatter(X_test[:, 0], X_test[:, 1], c=y_test, cmap=cmap_bold, s=plot_symbol_size, marker='^', edgecolor = 'black')\n",
        "        train_score = clf.score(X, y)\n",
        "        test_score  = clf.score(X_test, y_test)\n",
        "        title = title + \"\\nTrain score = {:.2f}, Test score = {:.2f}\".format(train_score, test_score)\n",
        "\n",
        "    if (target_names is not None):\n",
        "        legend_handles = []\n",
        "        for i in range(0, len(target_names)):\n",
        "            patch = mpatches.Patch(color=color_list_bold[i], label=target_names[i])\n",
        "            legend_handles.append(patch)\n",
        "        plt.legend(loc=0, handles=legend_handles)\n",
        "\n",
        "    if (title is not None):\n",
        "        plt.title(title)\n",
        "    plt.show()\n",
        "\n",
        "def plot_fruit_knn(X, y, n_neighbors, weights):\n",
        "    if isinstance(X, (pd.DataFrame,)):\n",
        "        X_mat = X[['height', 'width']].as_matrix()\n",
        "        y_mat = y.as_matrix()\n",
        "    elif isinstance(X, (np.ndarray,)):\n",
        "        # When X was scaled is already a matrix\n",
        "        X_mat = X_mat[:, :2]\n",
        "        y_mat = y.as_matrix()\n",
        "        print(X_mat)\n",
        "\n",
        "    # Create color maps\n",
        "    cmap_light = ListedColormap(['#FFAAAA', '#AAFFAA', '#AAAAFF','#AFAFAF'])\n",
        "    cmap_bold  = ListedColormap(['#FF0000', '#00FF00', '#0000FF','#AFAFAF'])\n",
        "\n",
        "    clf = neighbors.KNeighborsClassifier(n_neighbors, weights=weights)\n",
        "    clf.fit(X_mat, y_mat)\n",
        "\n",
        "    # Plot the decision boundary by assigning a color in the color map\n",
        "    # to each mesh point.\n",
        "\n",
        "    mesh_step_size = .01  # step size in the mesh\n",
        "    plot_symbol_size = 50\n",
        "\n",
        "    x_min, x_max = X_mat[:, 0].min() - 1, X_mat[:, 0].max() + 1\n",
        "    y_min, y_max = X_mat[:, 1].min() - 1, X_mat[:, 1].max() + 1\n",
        "    xx, yy = numpy.meshgrid(numpy.arange(x_min, x_max, mesh_step_size),\n",
        "                         numpy.arange(y_min, y_max, mesh_step_size))\n",
        "    # numpy.c_ Translates slice objects to concatenation along the second axis\n",
        "    # e.g. np.c_[np.array([[1,2,3]]), 0, 0, np.array([[4,5,6]])]\n",
        "    # ravel() Returns a contiguous flattened array.\n",
        "    # x = np.array([[1, 2, 3], [4, 5, 6]])\n",
        "    # np.ravel(x) = [1 2 3 4 5 6]\n",
        "\n",
        "    Z = clf.predict(numpy.c_[xx.ravel(), yy.ravel()])\n",
        "\n",
        "    # Put the result into a color plot\n",
        "    Z = Z.reshape(xx.shape)\n",
        "    plt.figure()\n",
        "    plt.pcolormesh(xx, yy, Z, cmap=cmap_light)\n",
        "\n",
        "    # Plot training points\n",
        "    plt.scatter(X_mat[:, 0], X_mat[:, 1], s=plot_symbol_size, c=y, cmap=cmap_bold, edgecolor = 'black')\n",
        "    plt.xlim(xx.min(), xx.max())\n",
        "    plt.ylim(yy.min(), yy.max())\n",
        "\n",
        "    patch0 = mpatches.Patch(color='#FF0000', label='apple')\n",
        "    patch1 = mpatches.Patch(color='#00FF00', label='mandarin')\n",
        "    patch2 = mpatches.Patch(color='#0000FF', label='orange')\n",
        "    patch3 = mpatches.Patch(color='#AFAFAF', label='lemon')\n",
        "    plt.legend(handles=[patch0, patch1, patch2, patch3])\n",
        "\n",
        "\n",
        "    plt.xlabel('height (cm)')\n",
        "    plt.ylabel('width (cm)')\n",
        "\n",
        "    plt.show()\n",
        "\n",
        "def plot_two_class_knn(X, y, n_neighbors, weights, X_test, y_test):\n",
        "    X_mat = X\n",
        "    y_mat = y\n",
        "\n",
        "    # Create color maps\n",
        "    cmap_light = ListedColormap(['#FFFFAA', '#AAFFAA', '#AAAAFF','#EFEFEF'])\n",
        "    cmap_bold  = ListedColormap(['#FFFF00', '#00FF00', '#0000FF','#000000'])\n",
        "\n",
        "    clf = neighbors.KNeighborsClassifier(n_neighbors, weights=weights)\n",
        "    clf.fit(X_mat, y_mat)\n",
        "\n",
        "    # Plot the decision boundary by assigning a color in the color map\n",
        "    # to each mesh point.\n",
        "\n",
        "    mesh_step_size = .01  # step size in the mesh\n",
        "    plot_symbol_size = 50\n",
        "\n",
        "    x_min, x_max = X_mat[:, 0].min() - 1, X_mat[:, 0].max() + 1\n",
        "    y_min, y_max = X_mat[:, 1].min() - 1, X_mat[:, 1].max() + 1\n",
        "    xx, yy = numpy.meshgrid(numpy.arange(x_min, x_max, mesh_step_size),\n",
        "                         numpy.arange(y_min, y_max, mesh_step_size))\n",
        "    # numpy.c_ Translates slice objects to concatenation along the second axis\n",
        "    # e.g. np.c_[np.array([[1,2,3]]), 0, 0, np.array([[4,5,6]])]\n",
        "    # ravel() Returns a contiguous flattened array.\n",
        "    # x = np.array([[1, 2, 3], [4, 5, 6]])\n",
        "    # np.ravel(x) = [1 2 3 4 5 6]\n",
        "\n",
        "    Z = clf.predict(numpy.c_[xx.ravel(), yy.ravel()])\n",
        "\n",
        "    # Put the result into a color plot\n",
        "    Z = Z.reshape(xx.shape)\n",
        "    plt.figure()\n",
        "    plt.pcolormesh(xx, yy, Z, cmap=cmap_light)\n",
        "\n",
        "    # Plot training points\n",
        "    plt.scatter(X_mat[:, 0], X_mat[:, 1], s=plot_symbol_size, c=y, cmap=cmap_bold, edgecolor = 'black')\n",
        "    plt.xlim(xx.min(), xx.max())\n",
        "    plt.ylim(yy.min(), yy.max())\n",
        "\n",
        "    title = \"Neighbors = {}\".format(n_neighbors)\n",
        "    if (X_test is not None):\n",
        "        train_score = clf.score(X_mat, y_mat)\n",
        "        test_score  = clf.score(X_test, y_test)\n",
        "        title = title + \"\\nTrain score = {:.2f}, Test score = {:.2f}\".format(train_score, test_score)\n",
        "\n",
        "    patch0 = mpatches.Patch(color='#FFFF00', label='class 0')\n",
        "    patch1 = mpatches.Patch(color='#000000', label='class 1')\n",
        "    plt.legend(handles=[patch0, patch1])\n",
        "\n",
        "    plt.xlabel('Feature 0')\n",
        "    plt.ylabel('Feature 1')\n",
        "    plt.title(title)\n",
        "\n",
        "    plt.show()"
      ],
      "execution_count": 0,
      "outputs": []
    }
  ]
}