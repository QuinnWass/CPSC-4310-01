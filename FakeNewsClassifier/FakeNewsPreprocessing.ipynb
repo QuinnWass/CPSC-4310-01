{
 "cells": [
  {
   "cell_type": "markdown",
   "metadata": {
    "colab_type": "text",
    "id": "8X-U4oYAs8D_"
   },
   "source": [
    "# Preproccessing for Fake News Classifier"
   ]
  },
  {
   "cell_type": "code",
   "execution_count": 28,
   "metadata": {
    "colab": {},
    "colab_type": "code",
    "id": "rEtd8DzltDkO"
   },
   "outputs": [
    {
     "name": "stderr",
     "output_type": "stream",
     "text": [
      "[nltk_data] Downloading package stopwords to /home/quinn/nltk_data...\n",
      "[nltk_data]   Unzipping corpora/stopwords.zip.\n"
     ]
    },
    {
     "data": {
      "text/plain": [
       "True"
      ]
     },
     "execution_count": 28,
     "metadata": {},
     "output_type": "execute_result"
    }
   ],
   "source": [
    "#Imports\n",
    "import pandas as pd\n",
    "import re\n",
    "from nltk.corpus import stopwords\n",
    "import nltk\n",
    "nltk.download(\"stopwords\")"
   ]
  },
  {
   "cell_type": "code",
   "execution_count": 30,
   "metadata": {
    "colab": {},
    "colab_type": "code",
    "id": "OeV9vhn2tIfM"
   },
   "outputs": [],
   "source": [
    "fake_cb_dataset = 'fake-CB.csv'\n",
    "real_cb_dataset = 'true-CB.csv'\n",
    "fake_mr_dataset = 'fake-mr.csv'\n",
    "fake_cb_df = pd.read_csv(fake_cb_dataset).head(10)\n",
    "real_cb_df = pd.read_csv(real_cb_dataset)\n",
    "fake_mr_df = pd.read_csv(fake_mr_dataset)"
   ]
  },
  {
   "cell_type": "markdown",
   "metadata": {
    "colab_type": "text",
    "id": "jsZYs022vlsb"
   },
   "source": [
    "## Inspection of Fake News by Clément Bisaillon"
   ]
  },
  {
   "cell_type": "code",
   "execution_count": 18,
   "metadata": {
    "colab": {
     "base_uri": "https://localhost:8080/",
     "height": 501
    },
    "colab_type": "code",
    "id": "Zf-9T93_v4fW",
    "outputId": "0ff8d2a2-4732-4489-c102-035937ab148d"
   },
   "outputs": [
    {
     "name": "stdout",
     "output_type": "stream",
     "text": [
      "Head of data                                                title  \\\n",
      "0   Donald Trump Sends Out Embarrassing New Year’...   \n",
      "1   Drunk Bragging Trump Staffer Started Russian ...   \n",
      "2   Sheriff David Clarke Becomes An Internet Joke...   \n",
      "3   Trump Is So Obsessed He Even Has Obama’s Name...   \n",
      "4   Pope Francis Just Called Out Donald Trump Dur...   \n",
      "\n",
      "                                                text subject  \\\n",
      "0  Donald Trump just couldn t wish all Americans ...    News   \n",
      "1  House Intelligence Committee Chairman Devin Nu...    News   \n",
      "2  On Friday, it was revealed that former Milwauk...    News   \n",
      "3  On Christmas day, Donald Trump announced that ...    News   \n",
      "4  Pope Francis used his annual Christmas Day mes...    News   \n",
      "\n",
      "                date  \n",
      "0  December 31, 2017  \n",
      "1  December 31, 2017  \n",
      "2  December 30, 2017  \n",
      "3  December 29, 2017  \n",
      "4  December 25, 2017  \n",
      "tail of data                                                    title  \\\n",
      "23476  McPain: John McCain Furious That Iran Treated ...   \n",
      "23477  JUSTICE? Yahoo Settles E-mail Privacy Class-ac...   \n",
      "23478  Sunnistan: US and Allied ‘Safe Zone’ Plan to T...   \n",
      "23479  How to Blow $700 Million: Al Jazeera America F...   \n",
      "23480  10 U.S. Navy Sailors Held by Iranian Military ...   \n",
      "\n",
      "                                                    text      subject  \\\n",
      "23476  21st Century Wire says As 21WIRE reported earl...  Middle-east   \n",
      "23477  21st Century Wire says It s a familiar theme. ...  Middle-east   \n",
      "23478  Patrick Henningsen  21st Century WireRemember ...  Middle-east   \n",
      "23479  21st Century Wire says Al Jazeera America will...  Middle-east   \n",
      "23480  21st Century Wire says As 21WIRE predicted in ...  Middle-east   \n",
      "\n",
      "                   date  \n",
      "23476  January 16, 2016  \n",
      "23477  January 16, 2016  \n",
      "23478  January 15, 2016  \n",
      "23479  January 14, 2016  \n",
      "23480  January 12, 2016  \n",
      "Column names: Index(['title', 'text', 'subject', 'date'], dtype='object')\n",
      "Shape of dataset: (23481, 4)\n",
      "Decription of dataset:                                                     title   text subject  \\\n",
      "count                                               23481  23481   23481   \n",
      "unique                                              17903  17455       6   \n",
      "top     MEDIA IGNORES Time That Bill Clinton FIRED His...           News   \n",
      "freq                                                    6    626    9050   \n",
      "\n",
      "                date  \n",
      "count          23481  \n",
      "unique          1681  \n",
      "top     May 10, 2017  \n",
      "freq              46  \n"
     ]
    }
   ],
   "source": [
    "print(\"Head of data\", fake_cb_df.head())\n",
    "print(\"tail of data\", fake_cb_df.tail())\n",
    "print(\"Column names:\", fake_cb_df.columns)\n",
    "print(\"Shape of dataset:\",fake_cb_df.shape)\n",
    "print(\"Decription of dataset:\",fake_cb_df.describe())\n",
    "\n",
    "fake_cb_df['classification'] = \"Fake\"\n",
    "\n"
   ]
  },
  {
   "cell_type": "code",
   "execution_count": 26,
   "metadata": {},
   "outputs": [],
   "source": [
    "import re\n",
    "def cleanWordList(text):\n",
    "    return \" \".join([i for i in re.sub(\"[^a-zA-Z]\", \" \", text).split() if i not in stopwords.words(\"english\")]).lower()"
   ]
  },
  {
   "cell_type": "code",
   "execution_count": 31,
   "metadata": {
    "colab": {
     "base_uri": "https://localhost:8080/",
     "height": 133
    },
    "colab_type": "code",
    "id": "VN08poVrzIVO",
    "outputId": "bef22dd8-4b40-4128-820e-486e58fabc81"
   },
   "outputs": [
    {
     "data": {
      "text/html": [
       "<div>\n",
       "<style scoped>\n",
       "    .dataframe tbody tr th:only-of-type {\n",
       "        vertical-align: middle;\n",
       "    }\n",
       "\n",
       "    .dataframe tbody tr th {\n",
       "        vertical-align: top;\n",
       "    }\n",
       "\n",
       "    .dataframe thead th {\n",
       "        text-align: right;\n",
       "    }\n",
       "</style>\n",
       "<table border=\"1\" class=\"dataframe\">\n",
       "  <thead>\n",
       "    <tr style=\"text-align: right;\">\n",
       "      <th></th>\n",
       "      <th>title</th>\n",
       "      <th>text</th>\n",
       "      <th>subject</th>\n",
       "      <th>date</th>\n",
       "      <th>parsed_text</th>\n",
       "      <th>parsed_title</th>\n",
       "    </tr>\n",
       "  </thead>\n",
       "  <tbody>\n",
       "    <tr>\n",
       "      <th>0</th>\n",
       "      <td>Donald Trump Sends Out Embarrassing New Year’...</td>\n",
       "      <td>Donald Trump just couldn t wish all Americans ...</td>\n",
       "      <td>News</td>\n",
       "      <td>December 31, 2017</td>\n",
       "      <td>donald trump wish americans happy new year lea...</td>\n",
       "      <td>donald trump sends out embarrassing new year e...</td>\n",
       "    </tr>\n",
       "    <tr>\n",
       "      <th>1</th>\n",
       "      <td>Drunk Bragging Trump Staffer Started Russian ...</td>\n",
       "      <td>House Intelligence Committee Chairman Devin Nu...</td>\n",
       "      <td>News</td>\n",
       "      <td>December 31, 2017</td>\n",
       "      <td>house intelligence committee chairman devin nu...</td>\n",
       "      <td>drunk bragging trump staffer started russian c...</td>\n",
       "    </tr>\n",
       "    <tr>\n",
       "      <th>2</th>\n",
       "      <td>Sheriff David Clarke Becomes An Internet Joke...</td>\n",
       "      <td>On Friday, it was revealed that former Milwauk...</td>\n",
       "      <td>News</td>\n",
       "      <td>December 30, 2017</td>\n",
       "      <td>on friday revealed former milwaukee sheriff da...</td>\n",
       "      <td>sheriff david clarke becomes an internet joke ...</td>\n",
       "    </tr>\n",
       "    <tr>\n",
       "      <th>3</th>\n",
       "      <td>Trump Is So Obsessed He Even Has Obama’s Name...</td>\n",
       "      <td>On Christmas day, Donald Trump announced that ...</td>\n",
       "      <td>News</td>\n",
       "      <td>December 29, 2017</td>\n",
       "      <td>on christmas day donald trump announced would ...</td>\n",
       "      <td>trump is so obsessed he even has obama name co...</td>\n",
       "    </tr>\n",
       "    <tr>\n",
       "      <th>4</th>\n",
       "      <td>Pope Francis Just Called Out Donald Trump Dur...</td>\n",
       "      <td>Pope Francis used his annual Christmas Day mes...</td>\n",
       "      <td>News</td>\n",
       "      <td>December 25, 2017</td>\n",
       "      <td>pope francis used annual christmas day message...</td>\n",
       "      <td>pope francis just called out donald trump duri...</td>\n",
       "    </tr>\n",
       "  </tbody>\n",
       "</table>\n",
       "</div>"
      ],
      "text/plain": [
       "                                               title  \\\n",
       "0   Donald Trump Sends Out Embarrassing New Year’...   \n",
       "1   Drunk Bragging Trump Staffer Started Russian ...   \n",
       "2   Sheriff David Clarke Becomes An Internet Joke...   \n",
       "3   Trump Is So Obsessed He Even Has Obama’s Name...   \n",
       "4   Pope Francis Just Called Out Donald Trump Dur...   \n",
       "\n",
       "                                                text subject  \\\n",
       "0  Donald Trump just couldn t wish all Americans ...    News   \n",
       "1  House Intelligence Committee Chairman Devin Nu...    News   \n",
       "2  On Friday, it was revealed that former Milwauk...    News   \n",
       "3  On Christmas day, Donald Trump announced that ...    News   \n",
       "4  Pope Francis used his annual Christmas Day mes...    News   \n",
       "\n",
       "                date                                        parsed_text  \\\n",
       "0  December 31, 2017  donald trump wish americans happy new year lea...   \n",
       "1  December 31, 2017  house intelligence committee chairman devin nu...   \n",
       "2  December 30, 2017  on friday revealed former milwaukee sheriff da...   \n",
       "3  December 29, 2017  on christmas day donald trump announced would ...   \n",
       "4  December 25, 2017  pope francis used annual christmas day message...   \n",
       "\n",
       "                                        parsed_title  \n",
       "0  donald trump sends out embarrassing new year e...  \n",
       "1  drunk bragging trump staffer started russian c...  \n",
       "2  sheriff david clarke becomes an internet joke ...  \n",
       "3  trump is so obsessed he even has obama name co...  \n",
       "4  pope francis just called out donald trump duri...  "
      ]
     },
     "execution_count": 31,
     "metadata": {},
     "output_type": "execute_result"
    }
   ],
   "source": [
    "fake_cb_df.head()\n",
    "fake_cb_df['parsed_text']\n",
    "fake_cb_df['parsed_text'] = fake_cb_df['text'].apply(cleanWordList)\n",
    "fake_cb_df['parsed_title'] = fake_cb_df['title'].apply(cleanWordList)\n",
    "fake_cb_df.head()"
   ]
  },
  {
   "cell_type": "code",
   "execution_count": null,
   "metadata": {},
   "outputs": [],
   "source": []
  },
  {
   "cell_type": "code",
   "execution_count": 67,
   "metadata": {
    "colab": {},
    "colab_type": "code",
    "id": "6sCg2QTa2608"
   },
   "outputs": [],
   "source": []
  },
  {
   "cell_type": "code",
   "execution_count": 68,
   "metadata": {
    "colab": {
     "base_uri": "https://localhost:8080/",
     "height": 424
    },
    "colab_type": "code",
    "id": "BBtc7t5x51kO",
    "outputId": "a5f17b0e-6118-4134-a60b-14fbe366c0ba"
   },
   "outputs": [],
   "source": []
  },
  {
   "cell_type": "code",
   "execution_count": null,
   "metadata": {},
   "outputs": [],
   "source": []
  },
  {
   "cell_type": "markdown",
   "metadata": {
    "colab_type": "text",
    "id": "eLeJOj8Gv52d"
   },
   "source": [
    "## Inspection of Real News by Clément Bisaillon\n"
   ]
  },
  {
   "cell_type": "code",
   "execution_count": 11,
   "metadata": {
    "colab": {
     "base_uri": "https://localhost:8080/",
     "height": 501
    },
    "colab_type": "code",
    "id": "6i3QphL-v8tq",
    "outputId": "2936845c-ef3c-464c-a6d9-92744c25eb34"
   },
   "outputs": [
    {
     "name": "stdout",
     "output_type": "stream",
     "text": [
      "Head of data                                                title  ...                date\n",
      "0  As U.S. budget fight looms, Republicans flip t...  ...  December 31, 2017 \n",
      "1  U.S. military to accept transgender recruits o...  ...  December 29, 2017 \n",
      "2  Senior U.S. Republican senator: 'Let Mr. Muell...  ...  December 31, 2017 \n",
      "3  FBI Russia probe helped by Australian diplomat...  ...  December 30, 2017 \n",
      "4  Trump wants Postal Service to charge 'much mor...  ...  December 29, 2017 \n",
      "\n",
      "[5 rows x 4 columns]\n",
      "tail of data                                                    title  ...              date\n",
      "21412  'Fully committed' NATO backs new U.S. approach...  ...  August 22, 2017 \n",
      "21413  LexisNexis withdrew two products from Chinese ...  ...  August 22, 2017 \n",
      "21414  Minsk cultural hub becomes haven from authorities  ...  August 22, 2017 \n",
      "21415  Vatican upbeat on possibility of Pope Francis ...  ...  August 22, 2017 \n",
      "21416  Indonesia to buy $1.14 billion worth of Russia...  ...  August 22, 2017 \n",
      "\n",
      "[5 rows x 4 columns]\n",
      "Column names: Index(['title', 'text', 'subject', 'date'], dtype='object')\n",
      "Shape of dataset: (21417, 4)\n",
      "Decription of dataset:                                                     title  ...                date\n",
      "count                                               21417  ...               21417\n",
      "unique                                              20826  ...                 716\n",
      "top     Factbox: Trump fills top jobs for his administ...  ...  December 20, 2017 \n",
      "freq                                                   14  ...                 182\n",
      "\n",
      "[4 rows x 4 columns]\n"
     ]
    }
   ],
   "source": [
    "print(\"Head of data\", real_cb_df.head())\n",
    "print(\"tail of data\", real_cb_df.tail())\n",
    "print(\"Column names:\", real_cb_df.columns)\n",
    "print(\"Shape of dataset:\",real_cb_df.shape)\n",
    "print(\"Decription of dataset:\",real_cb_df.describe())\n",
    "\n",
    "real_cb_df['classification'] = \"Real\"\n",
    "\n",
    "# Getting value counts of each word\n",
    "counts = pd.Series(' '.join(real_cb_df.text).split()).value_counts()"
   ]
  },
  {
   "cell_type": "markdown",
   "metadata": {
    "colab_type": "text",
    "id": "l22u-Nhkv86q"
   },
   "source": [
    "## Inspection of Dataset by Meg Risdal\n"
   ]
  },
  {
   "cell_type": "code",
   "execution_count": 0,
   "metadata": {
    "colab": {},
    "colab_type": "code",
    "id": "BdjokQ9nwHcQ"
   },
   "outputs": [],
   "source": []
  }
 ],
 "metadata": {
  "colab": {
   "machine_shape": "hm",
   "name": "FakeNewsPreprocessing.ipynb",
   "provenance": []
  },
  "kernelspec": {
   "display_name": "Python 3",
   "language": "python",
   "name": "python3"
  },
  "language_info": {
   "codemirror_mode": {
    "name": "ipython",
    "version": 3
   },
   "file_extension": ".py",
   "mimetype": "text/x-python",
   "name": "python",
   "nbconvert_exporter": "python",
   "pygments_lexer": "ipython3",
   "version": "3.7.6"
  }
 },
 "nbformat": 4,
 "nbformat_minor": 1
}
